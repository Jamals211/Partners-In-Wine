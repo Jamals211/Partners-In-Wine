{
 "cells": [
  {
   "cell_type": "code",
   "execution_count": null,
   "metadata": {},
   "outputs": [],
   "source": [
    "# Import the requests library.\n",
    "import requests\n",
    "import numpy as np\n",
    "import pandas as pd\n",
    "# Import the requests library.\n",
    "import requests\n",
    "import datetime\n",
    "from datetime import datetime\n",
    "import matplotlib.pyplot as plt\n",
    "# Dependencies for the wine API\n",
    "import urllib\n",
    "import json\n",
    "# Import the API key.\n",
    "from config import weather_api_key\n",
    "import calendar\n",
    "\n",
    "Token = 'tylRGHbxqiZUDNymMowCBFCuEqeULiWk'\n",
    "Token_NOAA=Token\n",
    "API_Token='Token d8f94b93417333267ca0edcca7dc14a9e035e1bb'"
   ]
  },
  {
   "cell_type": "code",
   "execution_count": null,
   "metadata": {},
   "outputs": [],
   "source": [
    "# https://github.com/crvaden/NOAA_API_v2\n",
    "# https://towardsdatascience.com/getting-weather-data-in-3-easy-steps-8dc10cc5c859\n",
    "# https://cran.r-project.org/web/packages/rnoaa/rnoaa.pdf\n",
    "# file:///C:/Users/15124/Downloads/GHCND_documentation.pdf\n",
    "# https://www1.ncdc.noaa.gov/pub/data/ghcn/daily/ghcnd-stations.txt"
   ]
  },
  {
   "cell_type": "markdown",
   "metadata": {},
   "source": [
    "# For Loop with several zip codes since 1985 to 2015\n"
   ]
  },
  {
   "cell_type": "code",
   "execution_count": null,
   "metadata": {},
   "outputs": [],
   "source": [
    "bigdf = pd.DataFrame()\n",
    "states = {\n",
    "    'Napa': {\n",
    "        'zip': '94558',\n",
    "        'years': ['1985','1986','1987','1988','1989','1990', '1991','1993','1994','1995','1996','1997','1998','1999','2000','2001','2002','2003','2004','2005','2006','2007','2008','2009','2010','2011','2012','2013','2014','2015']\n",
    "        },\n",
    "#     'Walla': {\n",
    "#         'zip': '99362',\n",
    "#         'years': ['1985','1986','1987','1988','1989','1990', '1991','1993','1994','1995','1996','1997','1998','1999','2000','2001','2002','2003','2004','2005','2006','2007','2008','2009','2010','2011','2012','2013','2014','2015']\n",
    "#         },\n",
    "    'Columbia': {\n",
    "        'zip': '98813',\n",
    "        'years':['1985','1986','1987','1988','1989','1990', '1991','1993','1994','1995','1996','1997','1998','1999','2000','2001','2002','2003','2004','2005','2006','2007','2008','2009','2010','2011','2012','2013','2014','2015']\n",
    "        },\n",
    "    'Sonoma': {\n",
    "        'zip': '95476',\n",
    "        'years': ['1985','1986','1987','1988','1989','1990', '1991','1993','1994','1995','1996','1997','1998','1999','2000','2001','2002','2003','2004','2005','2006','2007','2008','2009','2010','2011','2012','2013','2014','2015']\n",
    "        },\n",
    "    'Santa': {\n",
    "        'zip': '95062',\n",
    "        'years': ['1985','1986','1987','1988','1989','1990', '1991','1993','1994','1995','1996','1997','1998','1999','2000','2001','2002','2003','2004','2005','2006','2007','2008','2009','2010','2011','2012','2013','2014','2015']\n",
    "        },\n",
    "    'Yakima': {\n",
    "        'zip': '98903',\n",
    "        'years':['1985','1986','1987','1988','1989','1990', '1991','1993','1994','1995','1996','1997','1998','1999','2000','2001','2002','2003','2004','2005','2006','2007','2008','2009','2010','2011','2012','2013','2014','2015']\n",
    "        },\n",
    "    'Dundee': {\n",
    "        'zip': '97045',\n",
    "        'years': ['1985','1986','1987','1988','1989','1990', '1991','1993','1994','1995','1996','1997','1998','1999','2000','2001','2002','2003','2004','2005','2006','2007','2008','2009','2010','2011','2012','2013','2014','2015']\n",
    "        },\n",
    "    'Willamette': {\n",
    "        'zip': '00077',\n",
    "        'years': ['1985','1986','1987','1988','1989','1990', '1991','1993','1994','1995','1996','1997','1998','1999','2000','2001','2002','2003','2004','2005','2006','2007','2008','2009','2010','2011','2012','2013','2014','2015']\n",
    "        }\n",
    "    #etc...\n",
    "}"
   ]
  },
  {
   "cell_type": "code",
   "execution_count": null,
   "metadata": {
    "scrolled": true
   },
   "outputs": [],
   "source": [
    "for state in states:\n",
    "    small_df = pd.DataFrame()\n",
    "    for year in states[state]['years']:\n",
    "        zip = states[state]['zip']\n",
    "        df_test = pd.DataFrame()\n",
    "        #Print out 'working on year' to idenfity if script is running correctly\n",
    "        print('working on year '+str(year))\n",
    "        #make the api call for temp and precipitation\n",
    "        #r = requests.get(f'https://www.ncdc.noaa.gov/cdo-web/api/v2/locations?locationcategoryid=ZIP:94558&datatypeid=TMIN&sortfield=name&sortorder=desc&units=standard&limit=1000&startdate='+year+'-01-01&enddate='+year+'-12-31', headers={'token':Token})\n",
    "        r = requests.get(f'https://www.ncdc.noaa.gov/cdo-web/api/v2/data?datasetid=GHCND&locationid=ZIP:{zip}&datatypeid=TMAX&datatypeid=PRCP&units=standard&limit=1000&startdate='+year+'-01-01&enddate='+year+'-12-31', headers={'token':Token})\n",
    "        #p = requests.get(f'https://www.ncdc.noaa.gov/cdo-web/api/v2/data?datasetid=GHCND&datatypeid=GHCND&limit=1000&stationid=GHCND:USC00046074&startdate='+year+'-01-01&enddate='+year+'-12-31', headers={'token':Token})\n",
    "        #Load JSON data\n",
    "        d = json.loads(r.text)\n",
    "        #     print(d)\n",
    "        #e = json.loads(p.text)\n",
    "        items_MAX = [item for item in d['results'] if item['datatype']=='PRCP']\n",
    "#         items_MIN = [item for item in d['results'] if item['datatype']=='TMIN']\n",
    "        # #get the date field from all average temperature readings\n",
    "        dates_temp_MAX = [item['date'].split('T')[0] for item in items_MAX]\n",
    "#         dates_temp_MIN = [item['date'].split('T')[0] for item in items_MIN]\n",
    "        df_test['date'] = dates_temp_MAX\n",
    "        df_test['PRCP'+state] = np.nan\n",
    "        for item in items_MAX:\n",
    "            date = item['date'].split('T')[0]\n",
    "            df_test.loc[df_test['date'] == date, ['PRCP'+state]] = item['value']\n",
    "#         df_test['avgMinTemp'+state] = np.nan\n",
    "#         for item in items_MIN:\n",
    "#             date = item['date'].split('T')[0]\n",
    "#             df_test.loc[df_test['date'] == date, ['avgMinTemp'+state]] = item['value']\n",
    "        small_df = pd.concat([small_df,df_test])\n",
    "    if bigdf.empty:\n",
    "        bigdf = small_df\n",
    "    else:\n",
    "        bigdf = pd.merge(bigdf,small_df)\n",
    "bigdf.to_csv( 'Prcp_Bigdf.csv', index = False)"
   ]
  },
  {
   "cell_type": "code",
   "execution_count": null,
   "metadata": {},
   "outputs": [],
   "source": [
    "bigdf"
   ]
  },
  {
   "cell_type": "code",
   "execution_count": null,
   "metadata": {},
   "outputs": [],
   "source": [
    "#dataframe save as csv file\n",
    "#bigdf.to_csv( 'weatherapi.csv', index = False)"
   ]
  },
  {
   "cell_type": "code",
   "execution_count": null,
   "metadata": {},
   "outputs": [],
   "source": [
    "for state in states:\n",
    "    small_df = pd.DataFrame()\n",
    "    for year in states[state]['years']:\n",
    "        zip = states[state]['zip']\n",
    "        df_test = pd.DataFrame()\n",
    "        #Print out 'working on year' to idenfity if script is running correctly\n",
    "        print('working on year '+str(year))\n",
    "        #make the api call for temp and precipitation\n",
    "        r = requests.get(f'https://www.ncdc.noaa.gov/cdo-web/api/v2/data?datasetid=GHCND&locationid=ZIP:{zip}&datatypeid=TMAX&datatypeid=TMIN&datatypeid=PRCP&units=standard&limit=1000&startdate='+year+'-01-01&enddate='+year+'-12-31', headers={'token':Token_NOAA})\n",
    "        #Load JSON data\n",
    "        d = json.loads(r.text)\n",
    "        #     print(d)\n",
    "        #get value field for max, min, prcp\n",
    "        items_MAX = [item for item in d['results'] if item['datatype']=='TMAX']\n",
    "        items_MIN = [item for item in d['results'] if item['datatype']=='TMIN']\n",
    "        items_PRCP = [item for item in d['results'] if item['datatype']=='PRCP']\n",
    "        #get date field for max, min, prcp\n",
    "        dates_temp_MAX = [item['date'].split('T')[0] for item in items_MAX]\n",
    "        dates_temp_MIN = [item['date'].split('T')[0] for item in items_MIN]\n",
    "        dates_temp_PRCP = [item['date'].split('T')[0] for item in items_PRCP]\n",
    "#------------------------------------------------------------------------------ Create col avgMaxTemp/ loop through items_MAX date/ loop through values\n",
    "        df_test['date'] = dates_temp_MAX\n",
    "        df_test['avgMaxTemp'+state] = np.nan\n",
    "        for item in items_MAX:\n",
    "            date = item['date'].split('T')[0]\n",
    "            df_test.loc[df_test['date'] == date, ['avgMaxTemp'+state]] = item['value']\n",
    "#------------------------------------------------------------------------------ Create col avgMaxTemp/ loop through items_Min date/ loop through values\n",
    "        df_test['avgMinTemp'+state] = np.nan\n",
    "        for item in items_MIN:\n",
    "            date = item['date'].split('T')[0]\n",
    "            df_test.loc[df_test['date'] == date, ['avgMinTemp'+state]] = item['value']\n",
    "#------------------------------------------------------------------------------ Create col avgMaxTemp/ loop through items_PRCP date/ loop through values\n",
    "        df_test['avgPRCP'+state]=np.nan\n",
    "        for item in items_PRCP:\n",
    "            date = item['date'].split('T')[0]\n",
    "            df_test.loc[df_test['date'] == date, ['avgPRCP'+state]] = item['value']\n",
    "#------------------------------------------------------------------------------Combine the dataframes          \n",
    "        small_df = pd.concat([small_df,df_test])\n",
    "    if walladf.empty:\n",
    "        walladf = small_df\n",
    "    else:\n",
    "        walladf = pd.merge(walladf,small_df)\n",
    "walladf.head(20)"
   ]
  }
 ],
 "metadata": {
  "kernelspec": {
   "display_name": "mlenv",
   "language": "python",
   "name": "mlenv"
  },
  "language_info": {
   "codemirror_mode": {
    "name": "ipython",
    "version": 3
   },
   "file_extension": ".py",
   "mimetype": "text/x-python",
   "name": "python",
   "nbconvert_exporter": "python",
   "pygments_lexer": "ipython3",
   "version": "3.7.7"
  }
 },
 "nbformat": 4,
 "nbformat_minor": 4
}

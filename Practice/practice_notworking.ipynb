{
 "cells": [
  {
   "cell_type": "code",
   "execution_count": 9,
   "metadata": {},
   "outputs": [],
   "source": [
    "# Import the requests library.\n",
    "import requests\n",
    "import numpy as np\n",
    "import pandas as pd\n",
    "# Import the requests library.\n",
    "import requests\n",
    "import datetime\n",
    "from datetime import datetime\n",
    "import matplotlib.pyplot as plt\n",
    "# Dependencies for the wine API\n",
    "import urllib\n",
    "import json\n",
    "# Import the API key.\n",
    "from config import Token_NOAA\n",
    "from config import API_Token\n",
    "import calendar\n",
    "#Suppress Warnings\n",
    "pd.options.mode.chained_assignment = None  # default='warn'\n",
    "#Display all columns\n",
    "pd.set_option('display.max_columns', None)"
   ]
  },
  {
   "cell_type": "code",
   "execution_count": 10,
   "metadata": {},
   "outputs": [],
   "source": [
    "# https://github.com/crvaden/NOAA_API_v2\n",
    "# https://towardsdatascience.com/getting-weather-data-in-3-easy-steps-8dc10cc5c859\n",
    "# https://cran.r-project.org/web/packages/rnoaa/rnoaa.pdf\n",
    "# file:///C:/Users/15124/Downloads/GHCND_documentation.pdf\n",
    "# https://www1.ncdc.noaa.gov/pub/data/ghcn/daily/ghcnd-stations.txt"
   ]
  },
  {
   "cell_type": "code",
   "execution_count": 11,
   "metadata": {},
   "outputs": [],
   "source": [
    "# Import the API key.\n",
    "headers = {\n",
    "    'accept': 'application/json',\n",
    "    'authorization': API_Token\n",
    "    }"
   ]
  },
  {
   "cell_type": "markdown",
   "metadata": {},
   "source": [
    "# White Wine in USA API"
   ]
  },
  {
   "cell_type": "code",
   "execution_count": 12,
   "metadata": {},
   "outputs": [],
   "source": [
    "#import JSON data with the API\n",
    "req_white_USA = urllib.request.Request('https://api.globalwinescore.com/globalwinescores/latest/?color=white&limit=5000&country=Usa', data=None, headers=headers, origin_req_host=None, unverifiable=False, method=None)\n",
    "res_white_USA = urllib.request.urlopen(req_white_USA).read().decode()\n",
    "obj_white_USA = json.loads(res_white_USA)\n",
    "#read json into DF\n",
    "white_USA_df = pd.DataFrame.from_dict(obj_white_USA['results'], orient='columns')\n",
    "# Delete unnecessary columns\n",
    "white_USA_df.drop([ 'wine_slug', 'appellation_slug',  'date',  'lwin', 'lwin_11'],axis=1, inplace=True)\n",
    "##'wine_id','wine_type','classification',\n",
    "##Drop NA values\n",
    "# white_USA_df = white_USA_df.dropna()\n",
    "#convert vintage to date type\n",
    "white_USA_df['vintage']= pd.to_datetime(white_USA_df['vintage']).dt.year\n",
    "white_USA_df['regions']=white_USA_df['regions'].str.get(0)\n",
    "# Read the DF to a csv\n",
    "white_USA_df.to_csv(\"White_Wine_USA.csv\")\n",
    "# white_USA_df.head(2)"
   ]
  },
  {
   "cell_type": "markdown",
   "metadata": {},
   "source": [
    "# Weather Data By Zip Code"
   ]
  },
  {
   "cell_type": "code",
   "execution_count": 13,
   "metadata": {},
   "outputs": [],
   "source": [
    "temp_df=pd.read_csv('Final_Prcp_Weather_API.csv')\n",
    "prcp_df=pd.read_csv('Final_Prcp_Weather_API.csv')"
   ]
  },
  {
   "cell_type": "markdown",
   "metadata": {},
   "source": [
    "# List to iterate through"
   ]
  },
  {
   "cell_type": "code",
   "execution_count": 14,
   "metadata": {},
   "outputs": [],
   "source": [
    "# calender_years=[1992,1993, 1994, 1995,1996,1997, 1998, 1999, 2000, 2001, 2002, 2003, 2004, 2005, 2006, 2007, 2008, 2009, 2010, 2011, 2012,2013, 2014,2015, 2016, 2017]\n",
    "calender_years=[2010, 2011]\n",
    "\n",
    "calender_months=['January', 'February', 'March', 'April', 'May', 'June', 'July', 'August', 'September', 'October', 'November', 'December']\n",
    "regions=[]"
   ]
  },
  {
   "cell_type": "code",
   "execution_count": 15,
   "metadata": {},
   "outputs": [
    {
     "data": {
      "text/html": [
       "<div>\n",
       "<style scoped>\n",
       "    .dataframe tbody tr th:only-of-type {\n",
       "        vertical-align: middle;\n",
       "    }\n",
       "\n",
       "    .dataframe tbody tr th {\n",
       "        vertical-align: top;\n",
       "    }\n",
       "\n",
       "    .dataframe thead th {\n",
       "        text-align: right;\n",
       "    }\n",
       "</style>\n",
       "<table border=\"1\" class=\"dataframe\">\n",
       "  <thead>\n",
       "    <tr style=\"text-align: right;\">\n",
       "      <th></th>\n",
       "      <th>wine</th>\n",
       "      <th>wine_id</th>\n",
       "      <th>appellation</th>\n",
       "      <th>color</th>\n",
       "      <th>wine_type</th>\n",
       "      <th>regions</th>\n",
       "      <th>country</th>\n",
       "      <th>classification</th>\n",
       "      <th>vintage</th>\n",
       "      <th>is_primeurs</th>\n",
       "      <th>score</th>\n",
       "      <th>confidence_index</th>\n",
       "      <th>journalist_count</th>\n",
       "    </tr>\n",
       "  </thead>\n",
       "  <tbody>\n",
       "    <tr>\n",
       "      <th>0</th>\n",
       "      <td>Ridge Vineyards, Monte Bello Chardonnay, White...</td>\n",
       "      <td>120785</td>\n",
       "      <td>Santa Cruz Mountains</td>\n",
       "      <td>White</td>\n",
       "      <td>dry</td>\n",
       "      <td>California</td>\n",
       "      <td>Usa</td>\n",
       "      <td>None</td>\n",
       "      <td>2016</td>\n",
       "      <td>False</td>\n",
       "      <td>94.39</td>\n",
       "      <td>B</td>\n",
       "      <td>3</td>\n",
       "    </tr>\n",
       "    <tr>\n",
       "      <th>1</th>\n",
       "      <td>Stags' Leap Winery, Chardonnay, White, Napa Va...</td>\n",
       "      <td>129823</td>\n",
       "      <td>Napa Valley</td>\n",
       "      <td>White</td>\n",
       "      <td>dry</td>\n",
       "      <td>California</td>\n",
       "      <td>Usa</td>\n",
       "      <td>None</td>\n",
       "      <td>2016</td>\n",
       "      <td>False</td>\n",
       "      <td>89.83</td>\n",
       "      <td>A+</td>\n",
       "      <td>3</td>\n",
       "    </tr>\n",
       "  </tbody>\n",
       "</table>\n",
       "</div>"
      ],
      "text/plain": [
       "                                                wine  wine_id  \\\n",
       "0  Ridge Vineyards, Monte Bello Chardonnay, White...   120785   \n",
       "1  Stags' Leap Winery, Chardonnay, White, Napa Va...   129823   \n",
       "\n",
       "            appellation  color wine_type     regions country classification  \\\n",
       "0  Santa Cruz Mountains  White       dry  California     Usa           None   \n",
       "1           Napa Valley  White       dry  California     Usa           None   \n",
       "\n",
       "   vintage  is_primeurs  score confidence_index  journalist_count  \n",
       "0     2016        False  94.39                B                 3  \n",
       "1     2016        False  89.83               A+                 3  "
      ]
     },
     "execution_count": 15,
     "metadata": {},
     "output_type": "execute_result"
    }
   ],
   "source": [
    "white_USA_df.head(2)"
   ]
  },
  {
   "cell_type": "code",
   "execution_count": 16,
   "metadata": {},
   "outputs": [
    {
     "data": {
      "text/html": [
       "<div>\n",
       "<style scoped>\n",
       "    .dataframe tbody tr th:only-of-type {\n",
       "        vertical-align: middle;\n",
       "    }\n",
       "\n",
       "    .dataframe tbody tr th {\n",
       "        vertical-align: top;\n",
       "    }\n",
       "\n",
       "    .dataframe thead th {\n",
       "        text-align: right;\n",
       "    }\n",
       "</style>\n",
       "<table border=\"1\" class=\"dataframe\">\n",
       "  <thead>\n",
       "    <tr style=\"text-align: right;\">\n",
       "      <th></th>\n",
       "      <th>index</th>\n",
       "      <th>PRCPNapa</th>\n",
       "      <th>PRCPColumbia</th>\n",
       "      <th>PRCPWalla</th>\n",
       "      <th>PRCPSonoma</th>\n",
       "      <th>PRCPSanta</th>\n",
       "      <th>PRCPYakima</th>\n",
       "      <th>PRCPDundee</th>\n",
       "      <th>year</th>\n",
       "      <th>months</th>\n",
       "    </tr>\n",
       "  </thead>\n",
       "  <tbody>\n",
       "    <tr>\n",
       "      <th>0</th>\n",
       "      <td>0</td>\n",
       "      <td>0.076000</td>\n",
       "      <td>0.026333</td>\n",
       "      <td>0.032333</td>\n",
       "      <td>0.073667</td>\n",
       "      <td>0.106333</td>\n",
       "      <td>0.009000</td>\n",
       "      <td>0.372333</td>\n",
       "      <td>1992</td>\n",
       "      <td>January</td>\n",
       "    </tr>\n",
       "    <tr>\n",
       "      <th>1</th>\n",
       "      <td>1</td>\n",
       "      <td>0.253103</td>\n",
       "      <td>0.013793</td>\n",
       "      <td>0.044483</td>\n",
       "      <td>0.338621</td>\n",
       "      <td>0.382759</td>\n",
       "      <td>0.021379</td>\n",
       "      <td>0.254138</td>\n",
       "      <td>1992</td>\n",
       "      <td>February</td>\n",
       "    </tr>\n",
       "  </tbody>\n",
       "</table>\n",
       "</div>"
      ],
      "text/plain": [
       "   index  PRCPNapa  PRCPColumbia  PRCPWalla  PRCPSonoma  PRCPSanta  \\\n",
       "0      0  0.076000      0.026333   0.032333    0.073667   0.106333   \n",
       "1      1  0.253103      0.013793   0.044483    0.338621   0.382759   \n",
       "\n",
       "   PRCPYakima  PRCPDundee  year    months  \n",
       "0    0.009000    0.372333  1992   January  \n",
       "1    0.021379    0.254138  1992  February  "
      ]
     },
     "execution_count": 16,
     "metadata": {},
     "output_type": "execute_result"
    }
   ],
   "source": [
    "temp_df.head(2)"
   ]
  },
  {
   "cell_type": "code",
   "execution_count": null,
   "metadata": {},
   "outputs": [],
   "source": [
    "temp_df['avgCA']=0\n",
    "for i in range(len(bigdf)):\n",
    "    bigdf['avgCA'][i]=(bigdf['avgMaxTempCA'][i]+bigdf['avgMinTempCA'][i])/2\n",
    "bigdf.head()\n"
   ]
  },
  {
   "cell_type": "code",
   "execution_count": null,
   "metadata": {
    "scrolled": true
   },
   "outputs": [],
   "source": [
    "for month in calender_months:\n",
    "    white_USA_df['avgTemp'+str(month)]=0\n",
    "\n",
    "for i in range(len(white_USA_df)):\n",
    "    for month in calender_months:           \n",
    "        if white_USA_df['vintage'][i]==2010:\n",
    "            white_USA_df['avgTemp'+month][i]=bigdf.loc[bigdf['months']==month].loc[bigdf['year']==2010].avgMaxTempCA\n",
    "#             white_USA_df['January'][i]=1\n",
    "        else:\n",
    "            white_USA_df['avgTemp'+month][i]=0\n",
    "sorted_white_USA_df=white_USA_df[white_USA_df['vintage']==2010]\n",
    "sorted_white_USA_df.head(2)"
   ]
  },
  {
   "cell_type": "code",
   "execution_count": null,
   "metadata": {},
   "outputs": [],
   "source": [
    "for i in range(len(white_USA_df)):\n",
    "    for month, cyear in zip(calender_months,calender_years) :           \n",
    "        if white_USA_df['vintage'][i]==2010:\n",
    "            white_USA_df['avgTemp'+month][i]=bigdf.loc[bigdf['months']==month].loc[bigdf['year']==2010].avgMaxTempCA\n",
    "        else:\n",
    "            white_USA_df['avgTemp'+month][i]=0\n",
    "white_USA_df"
   ]
  },
  {
   "cell_type": "code",
   "execution_count": null,
   "metadata": {},
   "outputs": [],
   "source": []
  },
  {
   "cell_type": "code",
   "execution_count": null,
   "metadata": {},
   "outputs": [],
   "source": []
  },
  {
   "cell_type": "code",
   "execution_count": null,
   "metadata": {},
   "outputs": [],
   "source": []
  },
  {
   "cell_type": "code",
   "execution_count": null,
   "metadata": {},
   "outputs": [],
   "source": []
  },
  {
   "cell_type": "code",
   "execution_count": null,
   "metadata": {},
   "outputs": [],
   "source": []
  },
  {
   "cell_type": "code",
   "execution_count": null,
   "metadata": {},
   "outputs": [],
   "source": []
  },
  {
   "cell_type": "code",
   "execution_count": null,
   "metadata": {},
   "outputs": [],
   "source": []
  },
  {
   "cell_type": "code",
   "execution_count": null,
   "metadata": {},
   "outputs": [],
   "source": []
  },
  {
   "cell_type": "code",
   "execution_count": null,
   "metadata": {},
   "outputs": [],
   "source": []
  },
  {
   "cell_type": "code",
   "execution_count": null,
   "metadata": {},
   "outputs": [],
   "source": []
  },
  {
   "cell_type": "code",
   "execution_count": null,
   "metadata": {},
   "outputs": [],
   "source": []
  },
  {
   "cell_type": "code",
   "execution_count": null,
   "metadata": {},
   "outputs": [],
   "source": []
  },
  {
   "cell_type": "code",
   "execution_count": null,
   "metadata": {},
   "outputs": [],
   "source": []
  },
  {
   "cell_type": "code",
   "execution_count": null,
   "metadata": {},
   "outputs": [],
   "source": []
  },
  {
   "cell_type": "code",
   "execution_count": null,
   "metadata": {},
   "outputs": [],
   "source": []
  },
  {
   "cell_type": "markdown",
   "metadata": {},
   "source": [
    "# Practice"
   ]
  },
  {
   "cell_type": "code",
   "execution_count": null,
   "metadata": {},
   "outputs": [],
   "source": [
    "data = {'Name': ['Ankit', 'Amit', 'Aishwarya', 'Priyanka'], \n",
    "                'Age': [21, 19, 20, 18], \n",
    "                'Stream': ['Math', 'Commerce', 'Arts', 'Biology'], \n",
    "                'Percentage': [88, 92, 95, 70]} \n",
    "  \n",
    "# Convert the dictionary into DataFrame \n",
    "df = pd.DataFrame(data, columns = ['Name', 'Age', 'Stream', 'Percentage'])\n",
    "df['A']=0\n",
    "df"
   ]
  },
  {
   "cell_type": "code",
   "execution_count": null,
   "metadata": {},
   "outputs": [],
   "source": [
    "for i in range(len(df)):\n",
    "    if df['Percentage'][i]==70:\n",
    "        df['Percentage'][i]=df.loc[df['Name']=='Aishwarya'].Age\n",
    "\n",
    "for i in range(len(df)):\n",
    "    if df['Percentage'][i]==20:\n",
    "        df['A'][i]=1\n",
    "    else:\n",
    "        df['A'][i]=0\n",
    "\n",
    "df"
   ]
  },
  {
   "cell_type": "code",
   "execution_count": null,
   "metadata": {},
   "outputs": [],
   "source": [
    "print(bigdf.loc[bigdf['months']=='January'].loc[bigdf['year']==2010].avgMaxTempCA)\n",
    "print(bigdf.loc[bigdf['months']=='February'].loc[bigdf['year']==2010].avgMaxTempCA)\n",
    "print(bigdf.loc[bigdf['months']=='March'].loc[bigdf['year']==2010].avgMaxTempCA)\n",
    "print(bigdf.loc[bigdf['months']=='April'].loc[bigdf['year']==2010].avgMaxTempCA)\n",
    "print(bigdf.loc[bigdf['months']=='May'].loc[bigdf['year']==2010].avgMaxTempCA)\n",
    "print(bigdf.loc[bigdf['months']=='June'].loc[bigdf['year']==2010].avgMaxTempCA)\n",
    "print(bigdf.loc[bigdf['months']=='July'].loc[bigdf['year']==2010].avgMaxTempCA)\n",
    "print(bigdf.loc[bigdf['months']=='August'].loc[bigdf['year']==2010].avgMaxTempCA)"
   ]
  },
  {
   "cell_type": "code",
   "execution_count": null,
   "metadata": {},
   "outputs": [],
   "source": [
    "# loc is label based: 1, 2, 100--- you get rows that have a 1 or 2 or 100\n",
    "# iloc is int based: 1, 2, 100---- you get the 1st, 2nd, 100th index\n",
    "# bigdf.loc[bigdf['months']=='January'].loc[bigdf['year']==2010].avgMaxTempCA\n",
    "x=[]\n",
    "for month in calender_months:\n",
    "    x.append(bigdf.loc[bigdf['months']==month].loc[bigdf['year']==2010].avgMaxTempCA)\n",
    "x"
   ]
  },
  {
   "cell_type": "code",
   "execution_count": null,
   "metadata": {},
   "outputs": [],
   "source": [
    "# #Where Method\n",
    "# bigdf['avgMaxTempCA'].where(bigdf['months']=='January').where(bigdf['year']==2010)\n",
    "\n",
    "\n",
    "# for i in range(len(white_USA_df)):\n",
    "#     if white_USA_df['vintage'][i]==2010:\n",
    "#         white_USA_df[month][i]==bigdf.loc[bigdf['year']==2010].loc[bigdf['months']==month].avgMaxTempCA\n",
    "#     else:\n",
    "#         white_USA_df[month][i]==0\n",
    "# sorted_white_USA_df=white_USA_df[white_USA_df['vintage']==2010]\n",
    "# sorted_white_USA_df.head(2)"
   ]
  },
  {
   "cell_type": "code",
   "execution_count": null,
   "metadata": {},
   "outputs": [],
   "source": [
    "#Where Method\n",
    "# bigdf['avgMaxTempCA'].where(bigdf['months']=='January').where(bigdf['year']==2010)\n",
    "\n",
    "\n",
    "# for i in white_USA_df['vintage']:\n",
    "#     if i == 2010:\n",
    "#         white_USA_df['February']=bigdf['avgMaxTempCA'].where(bigdf['months']=='February').where(bigdf['year']==2010)\n",
    "#     else:\n",
    "#         white_USA_df['February']==0\n",
    "# white_USA_df\n",
    "# sorted_white_USA_df=white_USA_df[white_USA_df['vintage']==2010]\n",
    "# sorted_white_USA_df.head(2)\n",
    "\n",
    "\n",
    "for i in range(len(white_USA_df)):\n",
    "    if white_USA_df.loc[i, 'vintage']==2010:\n",
    "        white_USA_df.loc[i, 'January']==1\n",
    "    else:\n",
    "        white_USA_df.loc[i, 'January']==0\n",
    "sorted_white_USA_df=white_USA_df[white_USA_df['vintage']==2010]\n",
    "sorted_white_USA_df.head(2)"
   ]
  },
  {
   "cell_type": "code",
   "execution_count": null,
   "metadata": {},
   "outputs": [],
   "source": [
    "for i in white_USA_df['vintage']:\n",
    "    for month in calender_months:\n",
    "        if i ==2010:\n",
    "            white_USA_df[month]=bigdf['avgMaxTempCA'].where(bigdf['months']==month).where(bigdf['year']==2010)\n",
    "        else:\n",
    "            white_USA_df[month]=0\n",
    "sorted_white_USA_df=white_USA_df[white_USA_df['vintage']==2010]\n",
    "sorted_white_USA_df.head(2) "
   ]
  },
  {
   "cell_type": "code",
   "execution_count": null,
   "metadata": {},
   "outputs": [],
   "source": [
    "# sorted_white_USA_df=white_USA_df.sort_values(by=['vintage'], ascending=True)\n",
    "sorted_white_USA_df=white_USA_df[white_USA_df['vintage']==2010]\n",
    "sorted_white_USA_df.head(2)"
   ]
  },
  {
   "cell_type": "code",
   "execution_count": null,
   "metadata": {},
   "outputs": [],
   "source": [
    "for i in range(len(white_USA_df)):\n",
    "    if white_USA_df['vintage'][i]==2010:\n",
    "        white_USA_df['January']=bigdf['avgMaxTempCA'].where(bigdf['months']=='January').where(bigdf['year']==2010)\n",
    "    else:\n",
    "        white_USA_df['January'][i]==0\n",
    "sorted_white_USA_df=white_USA_df[white_USA_df['vintage']==2010]\n",
    "sorted_white_USA_df.head(2)\n",
    "        \n",
    "\n",
    "# white_USA_df['January']=bigdf['avgMaxTempCA'].where(bigdf['months']=='January').where(bigdf['year']==2010)\n",
    "# white_USA_df"
   ]
  },
  {
   "cell_type": "code",
   "execution_count": null,
   "metadata": {},
   "outputs": [],
   "source": [
    "bigdf.loc[bigdf['months']==month].loc[bigdf['year']==2010].avgMaxTempCA"
   ]
  },
  {
   "cell_type": "code",
   "execution_count": null,
   "metadata": {},
   "outputs": [],
   "source": []
  },
  {
   "cell_type": "code",
   "execution_count": null,
   "metadata": {},
   "outputs": [],
   "source": []
  },
  {
   "cell_type": "code",
   "execution_count": null,
   "metadata": {},
   "outputs": [],
   "source": []
  }
 ],
 "metadata": {
  "kernelspec": {
   "display_name": "PythonData",
   "language": "python",
   "name": "pythondata"
  },
  "language_info": {
   "codemirror_mode": {
    "name": "ipython",
    "version": 3
   },
   "file_extension": ".py",
   "mimetype": "text/x-python",
   "name": "python",
   "nbconvert_exporter": "python",
   "pygments_lexer": "ipython3",
   "version": "3.7.7"
  }
 },
 "nbformat": 4,
 "nbformat_minor": 4
}

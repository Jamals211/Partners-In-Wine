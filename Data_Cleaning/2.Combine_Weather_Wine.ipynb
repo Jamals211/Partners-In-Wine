{
 "cells": [
  {
   "cell_type": "code",
   "execution_count": 1,
   "metadata": {},
   "outputs": [],
   "source": [
    "import numpy as np\n",
    "import pandas as pd\n",
    "import datetime\n",
    "from datetime import datetime\n",
    "\n",
    "# statistics\n",
    "from scipy.stats import linregress\n",
    "from scipy import stats\n",
    "import statistics as st\n",
    "\n",
    "#Suppress Warnings\n",
    "pd.options.mode.chained_assignment = None  # default='warn'\n",
    "#Display all columns\n",
    "pd.set_option('display.max_columns', None)"
   ]
  },
  {
   "cell_type": "markdown",
   "metadata": {},
   "source": [
    "# Wine and Weather Data"
   ]
  },
  {
   "cell_type": "markdown",
   "metadata": {},
   "source": [
    "#### Import CSV Files"
   ]
  },
  {
   "cell_type": "code",
   "execution_count": 2,
   "metadata": {},
   "outputs": [],
   "source": [
    "temp_df=pd.read_csv('RawDailyTemp.csv')\n",
    "prcp_df=pd.read_csv('RawDailyPrcp.csv')\n",
    "red_USA_df=pd.read_csv('RawRedWine.csv', index_col=0)\n",
    "white_USA_df=pd.read_csv('RawWhiteWine.csv',index_col=0)"
   ]
  },
  {
   "cell_type": "code",
   "execution_count": 3,
   "metadata": {},
   "outputs": [],
   "source": [
    "calender_years=[1992,1993, 1994, 1995,1996,1997, 1998, 1999, 2000, 2001, 2002, 2003, 2004, 2005, 2006, 2007, 2008, 2009, 2010, 2011, 2012,2013, 2014,2015, 2016, 2017]\n",
    "calender_months=['January', 'February', 'March', 'April', 'May', 'June', 'July', 'August', 'September', 'October', 'November', 'December']"
   ]
  },
  {
   "cell_type": "markdown",
   "metadata": {},
   "source": [
    "# Combine Weather Data and White Wine Data"
   ]
  },
  {
   "cell_type": "code",
   "execution_count": 4,
   "metadata": {},
   "outputs": [],
   "source": [
    "#Create empty columns to iterate through\n",
    "for month in calender_months:\n",
    "    white_USA_df['avgPrcp'+str(month)]=0.00\n",
    "    white_USA_df['avgTemp'+str(month)]=0\n",
    "#Combine white wine with avgerage temperature and precipitation data\n",
    "for i in range(len(white_USA_df)):\n",
    "    for month in calender_months: \n",
    "        for year in calender_years:\n",
    "\n",
    "            if white_USA_df['vintage'][i]==year:\n",
    "#------------------------------------------------------------------California-------------------------------------------------- \n",
    "                if white_USA_df['appellation'][i]=='Napa Valley' or white_USA_df['appellation'][i]=='Los Carneros' or white_USA_df['appellation'][i]=='Atlas Peak' or white_USA_df['appellation'][i]=='Calistoga' or white_USA_df['appellation'][i]=='Napa County' or white_USA_df['appellation'][i]=='Rutherford' or white_USA_df['appellation'][i]=='Oakville' or white_USA_df['appellation'][i]=='Howell Mountain' or white_USA_df['appellation'][i]=='Stags Leap District' or white_USA_df['appellation'][i]=='St Helena' or white_USA_df['appellation'][i]=='Knights Valley' or white_USA_df['appellation'][i]=='Oak Knoll District' or white_USA_df['appellation'][i]=='Coombsville' or white_USA_df['appellation'][i]=='Spring Mountain District' or white_USA_df['appellation'][i]=='Mount Veeder' or white_USA_df['appellation'][i]=='Yountville' or white_USA_df['appellation'][i]=='Diamond Mountain District' or white_USA_df['appellation'][i]=='Green Valley':\n",
    "                    try:\n",
    "                        white_USA_df['avgPrcp'+month][i]=prcp_df.loc[prcp_df['months']==month].loc[prcp_df['year']==year].PRCPNapa\n",
    "                        white_USA_df['avgTemp'+month][i]=temp_df.loc[temp_df['Months']==month].loc[temp_df['Year']==year].avgTempNapa\n",
    "                    except:\n",
    "                        pass\n",
    "                if white_USA_df['appellation'][i]=='Santa Cruz Mountains' or white_USA_df['appellation'][i]=='Santa Lucia Highlands' or white_USA_df['appellation'][i]=='Santa Ynez Valley' or white_USA_df['appellation'][i]=='St Rita Hills':\n",
    "                    try:\n",
    "                        white_USA_df['avgPrcp'+month][i]=prcp_df.loc[prcp_df['months']==month].loc[prcp_df['year']==year].PRCPSanta\n",
    "                        white_USA_df['avgTemp'+month][i]=temp_df.loc[temp_df['Months']==month].loc[temp_df['Year']==year].avgTempSanta\n",
    "                    except:\n",
    "                        pass\n",
    "                if white_USA_df['appellation'][i]=='Sonoma Coast' or white_USA_df['appellation'][i]=='Chalk Hill' or white_USA_df['appellation'][i]=='Sonoma Valley' or white_USA_df['appellation'][i]=='Bennett Valley' or white_USA_df['appellation'][i]=='Mendocino Ridge' or white_USA_df['appellation'][i]=='Russian River Valley' or white_USA_df['appellation'][i]=='Sonoma Coast' or white_USA_df['appellation'][i]=='Carneros' or white_USA_df['appellation'][i]=='Alexander Valley' or white_USA_df['appellation'][i]=='Dry Creek Valley':\n",
    "                    try:\n",
    "                        white_USA_df['avgPrcp'+month][i]=prcp_df.loc[prcp_df['months']==month].loc[prcp_df['year']==year].PRCPSonoma\n",
    "                        white_USA_df['avgTemp'+month][i]=temp_df.loc[temp_df['Months']==month].loc[temp_df['Year']==year].avgTempSonoma\n",
    "                    except:\n",
    "                        pass\n",
    "#------------------------------------------------------------------Washington--------------------------------------------------\n",
    "                if white_USA_df['appellation'][i]=='Yakima Valley' or white_USA_df['appellation'][i]=='Horse Heaven Hills' or white_USA_df['appellation'][i]=='Snipes Mountains' or white_USA_df['appellation'][i]=='Red Mountain':\n",
    "                    try:\n",
    "                        white_USA_df['avgPrcp'+month][i]=prcp_df.loc[prcp_df['months']==month].loc[prcp_df['year']==year].PRCPYakima\n",
    "                        white_USA_df['avgTemp'+month][i]=temp_df.loc[temp_df['Months']==month].loc[temp_df['Year']==year].avgTempYakima\n",
    "                    except:\n",
    "                        pass\n",
    "                if white_USA_df['appellation'][i]=='Walla Walla Valley':\n",
    "                    try:\n",
    "                        white_USA_df['avgPrcp'+month][i]=prcp_df.loc[prcp_df['months']==month].loc[prcp_df['year']==year].PRCPWalla\n",
    "                        white_USA_df['avgTemp'+month][i]=temp_df.loc[temp_df['Months']==month].loc[temp_df['Year']==year].avgTempWalla\n",
    "                    except:\n",
    "                        pass\n",
    "                if white_USA_df['appellation'][i]=='Columbia Valley':\n",
    "                    try:\n",
    "                        white_USA_df['avgPrcp'+month][i]=prcp_df.loc[prcp_df['months']==month].loc[prcp_df['year']==year].PRCPColumbia\n",
    "                        white_USA_df['avgTemp'+month][i]=temp_df.loc[temp_df['Months']==month].loc[temp_df['Year']==year].avgTempColumbia\n",
    "                    except:\n",
    "                        pass\n",
    "#------------------------------------------------------------------Oregon--------------------------------------------------\n",
    "                if white_USA_df['appellation'][i]=='Willamette Valley' or white_USA_df['appellation'][i]=='Dundee Hills' or white_USA_df['appellation'][i]=='Eola-Amity Hills' or white_USA_df['appellation'][i]=='Ribbon Ridge' or white_USA_df['appellation'][i]=='Chehalem Mountains':\n",
    "                    try:\n",
    "                        white_USA_df['avgPrcp'+month][i]=prcp_df.loc[prcp_df['months']==month].loc[prcp_df['year']==year].PRCPDundee\n",
    "                        white_USA_df['avgTemp'+month][i]=temp_df.loc[temp_df['Months']==month].loc[temp_df['Year']==year].avgTempDundee\n",
    "                    except:\n",
    "                        pass"
   ]
  },
  {
   "cell_type": "markdown",
   "metadata": {},
   "source": [
    "# Combine Weather Data and Red Wine Data"
   ]
  },
  {
   "cell_type": "code",
   "execution_count": 5,
   "metadata": {},
   "outputs": [],
   "source": [
    "#Create empty columns to iterate through\n",
    "for month in calender_months:\n",
    "    red_USA_df['avgPrcp'+str(month)]=0.00\n",
    "    red_USA_df['avgTemp'+str(month)]=0\n",
    "#Combine white wine with avgerage temperature and precipitation data\n",
    "for i in range(len(red_USA_df)):\n",
    "    for month in calender_months:\n",
    "        for year in calender_years:\n",
    "            \n",
    "            if red_USA_df['vintage'][i]==year:\n",
    "#------------------------------------------------------------------California-------------------------------------------------- \n",
    "                if red_USA_df['appellation'][i]=='Napa Valley' or red_USA_df['appellation'][i]=='Los Carneros' or red_USA_df['appellation'][i]=='Atlas Peak' or red_USA_df['appellation'][i]=='Calistoga' or red_USA_df['appellation'][i]=='Napa County' or red_USA_df['appellation'][i]=='Rutherford' or red_USA_df['appellation'][i]=='Oakville' or red_USA_df['appellation'][i]=='Howell Mountain' or red_USA_df['appellation'][i]=='Stags Leap District' or red_USA_df['appellation'][i]=='St Helena' or red_USA_df['appellation'][i]=='Knights Valley' or red_USA_df['appellation'][i]=='Oak Knoll District' or red_USA_df['appellation'][i]=='Coombsville' or red_USA_df['appellation'][i]=='Spring Mountain District' or red_USA_df['appellation'][i]=='Mount Veeder' or red_USA_df['appellation'][i]=='Yountville' or red_USA_df['appellation'][i]=='Diamond Mountain District' or red_USA_df['appellation'][i]=='Green Valley':\n",
    "                    try:\n",
    "                        red_USA_df['avgPrcp'+month][i]=prcp_df.loc[prcp_df['months']==month].loc[prcp_df['year']==year].PRCPNapa\n",
    "                        red_USA_df['avgTemp'+month][i]=temp_df.loc[temp_df['Months']==month].loc[temp_df['Year']==year].avgTempNapa\n",
    "                    except:\n",
    "                        pass\n",
    "                if red_USA_df['appellation'][i]=='Santa Cruz Mountains' or red_USA_df['appellation'][i]=='Santa Lucia Highlands' or red_USA_df['appellation'][i]=='Santa Ynez Valley' or red_USA_df['appellation'][i]=='St Rita Hills':\n",
    "                    try:\n",
    "                        red_USA_df['avgPrcp'+month][i]=prcp_df.loc[prcp_df['months']==month].loc[prcp_df['year']==year].PRCPSanta\n",
    "                        red_USA_df['avgTemp'+month][i]=temp_df.loc[temp_df['Months']==month].loc[temp_df['Year']==year].avgTempSanta\n",
    "                    except:\n",
    "                        pass\n",
    "                if red_USA_df['appellation'][i]=='Sonoma Coast' or red_USA_df['appellation'][i]=='Chalk Hill' or red_USA_df['appellation'][i]=='Sonoma Valley' or red_USA_df['appellation'][i]=='Bennett Valley' or red_USA_df['appellation'][i]=='Mendocino Ridge' or red_USA_df['appellation'][i]=='Russian River Valley' or red_USA_df['appellation'][i]=='Sonoma Coast' or red_USA_df['appellation'][i]=='Carneros' or red_USA_df['appellation'][i]=='Alexander Valley' or red_USA_df['appellation'][i]=='Dry Creek Valley':\n",
    "                    try:\n",
    "                        red_USA_df['avgPrcp'+month][i]=prcp_df.loc[prcp_df['months']==month].loc[prcp_df['year']==year].PRCPSonoma\n",
    "                        red_USA_df['avgTemp'+month][i]=temp_df.loc[temp_df['Months']==month].loc[temp_df['Year']==year].avgTempSonoma\n",
    "                    except:\n",
    "                        pass\n",
    "                if red_USA_df['appellation'][i]=='Yakima Valley' or red_USA_df['appellation'][i]=='Horse Heaven Hills' or red_USA_df['appellation'][i]=='Snipes Mountains' or red_USA_df['appellation'][i]=='Red Mountain':\n",
    "                    try:\n",
    "                        red_USA_df['avgPrcp'+month][i]=prcp_df.loc[prcp_df['months']==month].loc[prcp_df['year']==year].PRCPYakima\n",
    "                        red_USA_df['avgTemp'+month][i]=temp_df.loc[temp_df['Months']==month].loc[temp_df['Year']==year].avgTempYakima\n",
    "                    except:\n",
    "                        pass\n",
    "                if red_USA_df['appellation'][i]=='Walla Walla Valley':\n",
    "                    try:\n",
    "                        red_USA_df['avgPrcp'+month][i]=prcp_df.loc[prcp_df['months']==month].loc[prcp_df['year']==year].PRCPWalla\n",
    "                        red_USA_df['avgTemp'+month][i]=temp_df.loc[temp_df['Months']==month].loc[temp_df['Year']==year].avgTempWalla\n",
    "                    except:\n",
    "                        pass\n",
    "                if red_USA_df['appellation'][i]=='Columbia Valley':\n",
    "                    try:\n",
    "                        red_USA_df['avgPrcp'+month][i]=prcp_df.loc[prcp_df['months']==month].loc[prcp_df['year']==year].PRCPColumbia\n",
    "                        red_USA_df['avgTemp'+month][i]=temp_df.loc[temp_df['Months']==month].loc[temp_df['Year']==year].avgTempColumbia\n",
    "                    except:\n",
    "                        pass\n",
    "                if red_USA_df['appellation'][i]=='Willamette Valley' or red_USA_df['appellation'][i]=='Dundee Hills' or red_USA_df['appellation'][i]=='Eola-Amity Hills' or red_USA_df['appellation'][i]=='Ribbon Ridge' or red_USA_df['appellation'][i]=='Chehalem Mountains':\n",
    "                    try:\n",
    "                        red_USA_df['avgPrcp'+month][i]=prcp_df.loc[prcp_df['months']==month].loc[prcp_df['year']==year].PRCPDundee\n",
    "                        red_USA_df['avgTemp'+month][i]=temp_df.loc[temp_df['Months']==month].loc[temp_df['Year']==year].avgTempDundee\n",
    "                    except:\n",
    "                        pass"
   ]
  },
  {
   "cell_type": "markdown",
   "metadata": {},
   "source": [
    "##### Print Raw Combined White Wine/Weather and Red Wine/Weather"
   ]
  },
  {
   "cell_type": "code",
   "execution_count": 6,
   "metadata": {},
   "outputs": [],
   "source": [
    "white_USA_df.to_csv('Raw_Final_White_Temp_Prcp.csv')\n",
    "red_USA_df.to_csv('Raw_Final_Red_Temp_Prcp.csv')"
   ]
  },
  {
   "cell_type": "markdown",
   "metadata": {},
   "source": [
    "# Cleaning Red Wine Weather and White Wine Weather"
   ]
  },
  {
   "cell_type": "markdown",
   "metadata": {},
   "source": [
    "## Red Wine Weather"
   ]
  },
  {
   "cell_type": "markdown",
   "metadata": {},
   "source": [
    "#### Print the number of NA values"
   ]
  },
  {
   "cell_type": "code",
   "execution_count": 7,
   "metadata": {},
   "outputs": [
    {
     "name": "stdout",
     "output_type": "stream",
     "text": [
      "wine_id                0\n",
      "appellation            0\n",
      "color                  0\n",
      "wine_type           4352\n",
      "regions                0\n",
      "country                0\n",
      "classification      4364\n",
      "vintage                0\n",
      "is_primeurs            0\n",
      "score                  0\n",
      "confidence_index       0\n",
      "journalist_count       0\n",
      "avgPrcpJanuary         0\n",
      "avgTempJanuary         0\n",
      "avgPrcpFebruary        0\n",
      "avgTempFebruary        0\n",
      "avgPrcpMarch           0\n",
      "avgTempMarch           0\n",
      "avgPrcpApril           0\n",
      "avgTempApril           0\n",
      "avgPrcpMay             0\n",
      "avgTempMay             0\n",
      "avgPrcpJune            0\n",
      "avgTempJune            0\n",
      "avgPrcpJuly            0\n",
      "avgTempJuly            0\n",
      "avgPrcpAugust          0\n",
      "avgTempAugust          0\n",
      "avgPrcpSeptember       0\n",
      "avgTempSeptember       0\n",
      "avgPrcpOctober         0\n",
      "avgTempOctober         0\n",
      "avgPrcpNovember        0\n",
      "avgTempNovember        0\n",
      "avgPrcpDecember        0\n",
      "avgTempDecember        0\n",
      "dtype: int64\n"
     ]
    }
   ],
   "source": [
    "print(red_USA_df.isnull().sum())"
   ]
  },
  {
   "cell_type": "markdown",
   "metadata": {},
   "source": [
    "#### Determine the number of NA values for each appellations"
   ]
  },
  {
   "cell_type": "code",
   "execution_count": 8,
   "metadata": {},
   "outputs": [
    {
     "name": "stdout",
     "output_type": "stream",
     "text": [
      "Napa Valley\n",
      "3030\n",
      "Santa Cruz Mountains\n",
      "76\n",
      "Sonoma Coast\n",
      "432\n",
      "Yakima Valley\n",
      "167\n",
      "Walla Walla\n",
      "271\n",
      "Columbia\n",
      "212\n",
      "Willamette Valley\n",
      "97\n",
      "Others\n",
      "79\n",
      "['Amador County', 'California', 'Amador County', 'California', 'Oregon', 'Oregon', 'Paso Robles', 'California', 'Monterey', 'California', 'California', 'Anderson Valley', 'Paso Robles', 'California', 'California', 'California', 'California', 'California', 'California', 'Mount Harlan', 'California', 'Oregon', 'California', 'Paso Robles', 'Paso Robles', 'California', 'California', 'Washington', 'Monticello', 'Washington', 'Oregon', 'California', 'California', 'California', 'California', 'Paso Robles', 'California', 'Oregon', 'Washington', 'California', 'California', 'California', 'Washington', 'Oregon', 'Paso Robles', 'California', 'Paso Robles', 'California', 'Washington', 'California', 'Amador County', 'California', 'Anderson Valley', 'Washington', 'California', 'California', 'Oregon', 'California', 'California', 'California', 'Paso Robles', 'Paso Robles', 'Paso Robles', 'Amador County', 'Snipes Mountain', 'Paso Robles', 'California', 'Santa Maria Valley', 'Paso Robles', 'San Luis Obispo County', 'Paso Robles', 'California', 'Sierra Foothills', 'California', 'California', 'California', 'California', 'North Coast', 'California']\n"
     ]
    }
   ],
   "source": [
    "a=[]\n",
    "b=[]\n",
    "c=[]\n",
    "d=[]\n",
    "e=[]\n",
    "f=[]\n",
    "g=[]\n",
    "h=[]\n",
    "wanted_napa=['Napa Valley', 'Los Carneros', 'Atlas Peak', 'Calistoga', 'Napa County', 'Rutherford', 'Oakville', 'Howell Mountain', 'Stags Leap District', 'St Helena', 'Knights Valley', 'Oak Knoll District', 'Coombsville', 'Spring Mountain District', 'Mount Veeder', 'Yountville', 'Diamond Mountain District', 'Green Valley']\n",
    "wanted_santa=['Santa Cruz Mountains', 'Sta Rita Hills','Santa Lucia Highlands', 'Santa Ynez Valley','St Rita Hills']\n",
    "wanted_sonoma=['Sonoma Coast', 'Chalk Hill', 'Sonoma Valley', 'Bennett Valley', 'Mendocino Ridge', 'Russian River Valley', 'Sonoma Coast', 'Carneros', 'Alexander Valley', 'Dry Creek Valley', 'Sonoma County', 'Sonoma Mountain']\n",
    "wanted_yakima=['Yakima Valley','Horse Heaven Hills','Snipes Mountains', 'Red Mountain']\n",
    "wanted_walla=['Walla Walla Valley']\n",
    "wanted_columbia=['Columbia Valley']\n",
    "wanted_will=['Willamette Valley', 'Dundee Hills', 'Eola-Amity Hills', 'Ribbon Ridge', 'Chehalem Mountains']\n",
    "wanted_others= wanted_napa +wanted_santa+wanted_sonoma+wanted_yakima+wanted_walla+wanted_columbia+wanted_will\n",
    "for value in red_USA_df['appellation']:\n",
    "    if value in wanted_napa: \n",
    "        a.append(value)\n",
    "    if value in wanted_santa: \n",
    "        b.append(value)\n",
    "    if value in wanted_sonoma: \n",
    "        c.append(value)\n",
    "    if value in wanted_yakima: \n",
    "        d.append(value)\n",
    "    if value in wanted_walla: \n",
    "        e.append(value)\n",
    "    if value in wanted_columbia: \n",
    "        f.append(value)\n",
    "    if value in wanted_will: \n",
    "        g.append(value)\n",
    "    if value not in wanted_others:\n",
    "        red_USA_df.drop(red_USA_df.loc[red_USA_df['appellation']==value].index, inplace= True)\n",
    "        h.append(value)\n",
    "        \n",
    "print('Napa Valley')\n",
    "print(len(a))\n",
    "\n",
    "print('Santa Cruz Mountains')\n",
    "print(len(b))\n",
    "\n",
    "print('Sonoma Coast')\n",
    "print(len(c))\n",
    "\n",
    "print('Yakima Valley')\n",
    "print(len(d))\n",
    "\n",
    "print('Walla Walla')\n",
    "print(len(e))\n",
    "\n",
    "print('Columbia')\n",
    "print(len(f))\n",
    "\n",
    "print('Willamette Valley')\n",
    "print(len(g))\n",
    "\n",
    "print('Others')\n",
    "print(len(h))\n",
    "print(h)"
   ]
  },
  {
   "cell_type": "markdown",
   "metadata": {},
   "source": [
    "#### Determine number of NA values for each State"
   ]
  },
  {
   "cell_type": "code",
   "execution_count": 9,
   "metadata": {},
   "outputs": [
    {
     "name": "stdout",
     "output_type": "stream",
     "text": [
      "California\n",
      "3538\n",
      "Oregon\n",
      "97\n",
      "Washington\n",
      "650\n",
      "Other\n",
      "0\n"
     ]
    }
   ],
   "source": [
    "cali=['California']\n",
    "oregon=['Oregon']\n",
    "wash=['Washington']\n",
    "total=['California','Oregon', 'Washington']\n",
    "x=[]\n",
    "y=[]\n",
    "z=[]\n",
    "xyz=[]\n",
    "\n",
    "for value in red_USA_df['regions']:\n",
    "    if value in cali:\n",
    "        x.append(value)\n",
    "    if value in oregon:\n",
    "        y.append(value)\n",
    "    if value in wash:\n",
    "        z.append(value)\n",
    "    if value not in total:\n",
    "        xyz.append(value)\n",
    "print('California')\n",
    "print(red_USA_df['regions'].str.count('California').sum())\n",
    "print('Oregon')\n",
    "print(red_USA_df['regions'].str.count('Oregon').sum())\n",
    "print('Washington')\n",
    "print(red_USA_df['regions'].str.count('Washington').sum())\n",
    "print(\"Other\")\n",
    "print(len(xyz))"
   ]
  },
  {
   "cell_type": "markdown",
   "metadata": {},
   "source": [
    "#### Determine which columns have the most NA values"
   ]
  },
  {
   "cell_type": "code",
   "execution_count": 10,
   "metadata": {},
   "outputs": [
    {
     "name": "stdout",
     "output_type": "stream",
     "text": [
      "4273\n",
      "4285\n",
      "0\n",
      "0\n",
      "0\n",
      "0\n",
      "0\n",
      "0\n"
     ]
    }
   ],
   "source": [
    "print(red_USA_df['wine_type'].isnull().sum())\n",
    "print(red_USA_df['classification'].isnull().sum())\n",
    "print(red_USA_df['avgPrcpJanuary'].isnull().sum())\n",
    "print(white_USA_df['avgPrcpJune'].isnull().sum())\n",
    "print(red_USA_df['avgPrcpSeptember'].isnull().sum())\n",
    "print(red_USA_df['avgPrcpOctober'].isnull().sum())\n",
    "print(red_USA_df['avgPrcpNovember'].isnull().sum())\n",
    "print(red_USA_df['avgPrcpDecember'].isnull().sum())"
   ]
  },
  {
   "cell_type": "markdown",
   "metadata": {},
   "source": [
    "#### Statistics for Red Wine"
   ]
  },
  {
   "cell_type": "code",
   "execution_count": 11,
   "metadata": {},
   "outputs": [
    {
     "name": "stdout",
     "output_type": "stream",
     "text": [
      "92.01515752625437\n",
      "92.03\n",
      "8.624524234049902\n",
      "2.9367540302262127\n"
     ]
    }
   ],
   "source": [
    "print(st.mean(red_USA_df['score']))\n",
    "print(st.median(red_USA_df['score']))\n",
    "print(st.variance(red_USA_df['score']))\n",
    "print(st.stdev(red_USA_df['score']))"
   ]
  },
  {
   "cell_type": "markdown",
   "metadata": {},
   "source": [
    "## White Wine"
   ]
  },
  {
   "cell_type": "markdown",
   "metadata": {},
   "source": [
    "##### Print the number of NA values"
   ]
  },
  {
   "cell_type": "code",
   "execution_count": 12,
   "metadata": {},
   "outputs": [
    {
     "name": "stdout",
     "output_type": "stream",
     "text": [
      "wine_id               0\n",
      "appellation           0\n",
      "color                 0\n",
      "wine_type             2\n",
      "regions               0\n",
      "country               0\n",
      "classification      784\n",
      "vintage               0\n",
      "is_primeurs           0\n",
      "score                 0\n",
      "confidence_index      0\n",
      "journalist_count      0\n",
      "avgPrcpJanuary        0\n",
      "avgTempJanuary        0\n",
      "avgPrcpFebruary       0\n",
      "avgTempFebruary       0\n",
      "avgPrcpMarch          0\n",
      "avgTempMarch          0\n",
      "avgPrcpApril          0\n",
      "avgTempApril          0\n",
      "avgPrcpMay            0\n",
      "avgTempMay            0\n",
      "avgPrcpJune           0\n",
      "avgTempJune           0\n",
      "avgPrcpJuly           0\n",
      "avgTempJuly           0\n",
      "avgPrcpAugust         0\n",
      "avgTempAugust         0\n",
      "avgPrcpSeptember      0\n",
      "avgTempSeptember      0\n",
      "avgPrcpOctober        0\n",
      "avgTempOctober        0\n",
      "avgPrcpNovember       0\n",
      "avgTempNovember       0\n",
      "avgPrcpDecember       0\n",
      "avgTempDecember       0\n",
      "dtype: int64\n"
     ]
    }
   ],
   "source": [
    "print(white_USA_df.isnull().sum())"
   ]
  },
  {
   "cell_type": "markdown",
   "metadata": {},
   "source": [
    "#### Determine number of instances of appellations"
   ]
  },
  {
   "cell_type": "code",
   "execution_count": 13,
   "metadata": {},
   "outputs": [
    {
     "name": "stdout",
     "output_type": "stream",
     "text": [
      "Napa Valley\n",
      "339\n",
      "Santa Cruz Mountains\n",
      "21\n",
      "Sonoma Coast\n",
      "364\n",
      "Yakima Valley\n",
      "3\n",
      "Walla Walla\n",
      "0\n",
      "Columbia\n",
      "18\n",
      "Willamette Valley\n",
      "31\n",
      "Others\n",
      "8\n",
      "['California', 'Sierra Foothills', 'California', 'California', 'California', 'California', 'Mendocino County', 'California']\n"
     ]
    }
   ],
   "source": [
    "a=[]\n",
    "b=[]\n",
    "c=[]\n",
    "d=[]\n",
    "e=[]\n",
    "f=[]\n",
    "g=[]\n",
    "h=[]\n",
    "wanted_napa=['Napa Valley', 'Los Carneros', 'Atlas Peak', 'Calistoga', 'Napa County', 'Rutherford', 'Oakville', 'Howell Mountain', 'Stags Leap District', 'St Helena', 'Knights Valley', 'Oak Knoll District', 'Coombsville', 'Spring Mountain District', 'Mount Veeder', 'Yountville', 'Diamond Mountain District', 'Green Valley']\n",
    "wanted_santa=['Santa Cruz Mountains', 'Santa Lucia Highlands', 'Santa Ynez Valley','St Rita Hills']\n",
    "wanted_sonoma=['Sonoma Coast', 'Chalk Hill', 'Sonoma Valley', 'Bennett Valley', 'Mendocino Ridge', 'Russian River Valley', 'Sonoma Coast', 'Carneros', 'Alexander Valley', 'Dry Creek Valley', 'Sonoma County', 'Sonoma Mountain']\n",
    "wanted_yakima=['Yakima Valley','Horse Heaven Hills','Snipes Mountains', 'Red Mountain']\n",
    "wanted_walla=['Walla Walla Valley']\n",
    "wanted_columbia=['Columbia Valley']\n",
    "wanted_will=['Willamette Valley', 'Dundee Hills', 'Eola-Amity Hills', 'Ribbon Ridge', 'Chehalem Mountains']\n",
    "wanted_others= wanted_napa +wanted_santa+wanted_sonoma+wanted_yakima+wanted_walla+wanted_columbia+wanted_will\n",
    "for value in white_USA_df['appellation']:\n",
    "    if value in wanted_napa: \n",
    "        a.append(value)\n",
    "    if value in wanted_santa: \n",
    "        b.append(value)\n",
    "    if value in wanted_sonoma: \n",
    "        c.append(value)\n",
    "    if value in wanted_yakima: \n",
    "        d.append(value)\n",
    "    if value in wanted_walla: \n",
    "        e.append(value)\n",
    "    if value in wanted_columbia: \n",
    "        f.append(value)\n",
    "    if value in wanted_will: \n",
    "        g.append(value)\n",
    "    if value not in wanted_others: \n",
    "        white_USA_df.drop(white_USA_df.loc[white_USA_df['appellation']==value].index, inplace= True)\n",
    "        h.append(value)\n",
    "        \n",
    "print('Napa Valley')\n",
    "print(len(a))\n",
    "\n",
    "print('Santa Cruz Mountains')\n",
    "print(len(b))\n",
    "\n",
    "print('Sonoma Coast')\n",
    "print(len(c))\n",
    "\n",
    "print('Yakima Valley')\n",
    "print(len(d))\n",
    "\n",
    "print('Walla Walla')\n",
    "print(len(e))\n",
    "\n",
    "print('Columbia')\n",
    "print(len(f))\n",
    "\n",
    "print('Willamette Valley')\n",
    "print(len(g))\n",
    "        \n",
    "print('Others')\n",
    "print(len(h))\n",
    "print(h)"
   ]
  },
  {
   "cell_type": "markdown",
   "metadata": {},
   "source": [
    "#### Determine number of instances for each State"
   ]
  },
  {
   "cell_type": "code",
   "execution_count": 14,
   "metadata": {},
   "outputs": [
    {
     "name": "stdout",
     "output_type": "stream",
     "text": [
      "California\n",
      "724\n",
      "Oregon\n",
      "31\n",
      "Washington\n",
      "21\n",
      "Other\n",
      "0\n"
     ]
    }
   ],
   "source": [
    "cali=['California']\n",
    "oregon=['Oregon']\n",
    "wash=['Washington']\n",
    "total=['California','Oregon', 'Washington']\n",
    "x=[]\n",
    "y=[]\n",
    "z=[]\n",
    "xyz=[]\n",
    "\n",
    "for value in white_USA_df['regions']:\n",
    "    if value in cali:\n",
    "        x.append(value)\n",
    "    if value in oregon:\n",
    "        y.append(value)\n",
    "    if value in wash:\n",
    "        z.append(value)\n",
    "    if value not in total:\n",
    "        xyz.append(value)\n",
    "print('California')\n",
    "print(white_USA_df['regions'].str.count('California').sum())\n",
    "print('Oregon')\n",
    "print(white_USA_df['regions'].str.count('Oregon').sum())\n",
    "print('Washington')\n",
    "print(white_USA_df['regions'].str.count('Washington').sum())\n",
    "print(\"Other\")\n",
    "print(len(xyz))"
   ]
  },
  {
   "cell_type": "markdown",
   "metadata": {},
   "source": [
    "#### Determine the columns that have the most NA values"
   ]
  },
  {
   "cell_type": "code",
   "execution_count": 15,
   "metadata": {},
   "outputs": [
    {
     "name": "stdout",
     "output_type": "stream",
     "text": [
      "776\n",
      "0\n",
      "0\n",
      "0\n",
      "0\n",
      "0\n",
      "0\n"
     ]
    }
   ],
   "source": [
    "print(white_USA_df['classification'].isnull().sum())\n",
    "print(white_USA_df['avgPrcpJanuary'].isnull().sum())\n",
    "print(white_USA_df['avgPrcpJune'].isnull().sum())\n",
    "print(white_USA_df['avgPrcpSeptember'].isnull().sum())\n",
    "print(white_USA_df['avgPrcpOctober'].isnull().sum())\n",
    "print(white_USA_df['avgPrcpNovember'].isnull().sum())\n",
    "print(white_USA_df['avgPrcpNovember'].isnull().sum())"
   ]
  },
  {
   "cell_type": "markdown",
   "metadata": {},
   "source": [
    "#### Statistics for White Wine"
   ]
  },
  {
   "cell_type": "code",
   "execution_count": 16,
   "metadata": {},
   "outputs": [
    {
     "name": "stdout",
     "output_type": "stream",
     "text": [
      "90.94649484536083\n",
      "91.18\n",
      "8.24519518190888\n",
      "2.871444789980974\n"
     ]
    }
   ],
   "source": [
    "print(st.mean(white_USA_df['score']))\n",
    "print(st.median(white_USA_df['score']))\n",
    "print(st.variance(white_USA_df['score']))\n",
    "print(st.stdev(white_USA_df['score']))"
   ]
  },
  {
   "cell_type": "markdown",
   "metadata": {},
   "source": [
    "#### Drop columns that have several NA values"
   ]
  },
  {
   "cell_type": "code",
   "execution_count": 17,
   "metadata": {},
   "outputs": [],
   "source": [
    "red_USA_df.drop(columns=['wine_type', 'classification', 'avgPrcpJanuary', 'avgTempJanuary', 'avgPrcpNovember', 'avgTempNovember', 'avgPrcpDecember', 'avgTempDecember'], inplace=True)\n",
    "white_USA_df.drop(columns=['classification', 'avgPrcpJanuary', 'avgTempJanuary', 'avgPrcpNovember', 'avgTempNovember', 'avgPrcpDecember', 'avgTempDecember'], inplace=True)\n",
    "white_USA_df.dropna(inplace=True)\n",
    "red_USA_df.dropna(inplace=True)\n",
    "red_USA_df.to_csv('Red_Wine_Cleaned.csv')\n",
    "white_USA_df.to_csv('White_Wine_Cleaned.csv')"
   ]
  }
 ],
 "metadata": {
  "kernelspec": {
   "display_name": "PythonData",
   "language": "python",
   "name": "pythondata"
  },
  "language_info": {
   "codemirror_mode": {
    "name": "ipython",
    "version": 3
   },
   "file_extension": ".py",
   "mimetype": "text/x-python",
   "name": "python",
   "nbconvert_exporter": "python",
   "pygments_lexer": "ipython3",
   "version": "3.7.7"
  }
 },
 "nbformat": 4,
 "nbformat_minor": 4
}

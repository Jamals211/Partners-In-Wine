{
 "cells": [
  {
   "cell_type": "markdown",
   "metadata": {},
   "source": [
    "# Calculation-Normalization Process\n",
    "The Global Wine Score scale takes into account wine rated by different pools of critics(French critics vs English critics vs American critics), the severity of each critic(some critics might be harsher than other critics), and the evolution of wine ratings.\n",
    "\n",
    "It does this by normalizing data. Normalize data from diff critics(Analyze Cumulative Distribution Function) CDF of the ratings. If critic A graded more harshly and crtic B graded liently then the CDF process would balance those. The score can be applied to any critic by converting to the Robert Parker 100 pt scale. "
   ]
  },
  {
   "cell_type": "markdown",
   "metadata": {},
   "source": [
    "## Countries and Regions:\n",
    "Spain   \n",
    "    Region: Spain <p>\n",
    "Usa    \n",
    "    Region: California, Washington, Oregon <p>\n",
    "Italy   \n",
    "    Region: Tuscany, Piedmont, Sicily, Veneto, Campania, Umbria <p>\n",
    "Lebanon  \n",
    "    Region: Lebanon <p>\n",
    "France   \n",
    "    Region: Bordeaux, Bourgogne, Rhone, Beaujolais, Languedoc Roussillon, Loire, Provence<p>\n",
    "New Zealand  \n",
    "    Region: New Zealand, Central Otago<p>\n",
    "Chile   \n",
    "    Region: Chile <p>\n",
    "Argentina  \n",
    "    Region: Mendoza, Argentina<p>\n",
    "Australia   \n",
    "    Region: Australia <p>\n",
    "South Africa   \n",
    "    Region: Coastal Region, Western Cape <p>\n",
    "China   \n",
    "    Region: Yunnan <p>\n",
    "Portugal   \n",
    "    Region:Duro Valley <p>"
   ]
  },
  {
   "cell_type": "markdown",
   "metadata": {},
   "source": [
    "## Definitions: <p>\n",
    "    appellation-Sub-region <p>\n",
    "    is_primeurs-wine still in barrel <p>\n",
    "    lwin-unique identification code for wine <p>"
   ]
  },
  {
   "cell_type": "markdown",
   "metadata": {},
   "source": [
    "# Colors:\n",
    "Red, White, Pink"
   ]
  },
  {
   "cell_type": "markdown",
   "metadata": {},
   "source": [
    "# Type:\n",
    "Dry, Sweet, Sparkling, Port"
   ]
  },
  {
   "cell_type": "markdown",
   "metadata": {},
   "source": [
    "Questions:\n",
    "    Pull by range of score\n",
    "    pull by confidence index range\n",
    "Tie rain, sunlight, etc. to vintage or current production\n",
    "Focus on the three regions in America - consistent data, weather, \n",
    "Focus on Red, White and maybe Pink as well\n",
    "Soil quality, \n",
    "\n",
    "Want for the next meeting:\n",
    "Weather API, Soil quality\n"
   ]
  },
  {
   "cell_type": "markdown",
   "metadata": {},
   "source": [
    "## California Regions:\n",
    "##### Napa Valley\n",
    "##### Rutherford\n",
    "##### Oakville\n",
    "##### Howell Mountain\n",
    "##### Sonoma County\n",
    "#### Stags Leap District\n",
    "#### Russian River Valley\n",
    "#### St Helena\n",
    "#### Sonoma Coast\n",
    "#### Carneros\n",
    "#### Santa Cruz Mountains\n",
    "#### Knights Valley\n",
    "#### California\n",
    "#### Alexander Valley\n",
    "#### Spring Mountain District\n",
    "#### Dry Creek Valley\n",
    "\n",
    "Mount Veeder<p>\n",
    "Yountville<p>\n",
    "Diamond Mountain District<p>\n",
    "Santa Lucia Highlands<p>\n",
    "Green Valley<p>\n",
    "Paso Robles<p>\n",
    "Oak Knoll District<p>\n",
    "Coombsville<p>\n",
    "Santa Ynez Valley<p>\n",
    "Atlas Peak<p>\n",
    "Chalk Hill<p>\n",
    "Amador County<p>\n",
    "Calistoga<p>\n",
    "Napa County<p>\n",
    "Sonoma Valley<p>\n",
    "Los Carneros<p>\n",
    "Anderson Valley<p>\n",
    "Bennett Valley<p>\n",
    "Mendocino Ridge<p>\n",
    "St Rita Hills<p>\n",
    "Monterey<p>\n",
    "Monticello<p>\n",
    "Mount Harlan<p>\n",
    "North Coast<p>\n",
    "San Luis Obispo County<p>\n",
    "Santa Mario Valley<p>\n",
    "Sierra Foothills<p>"
   ]
  },
  {
   "cell_type": "markdown",
   "metadata": {},
   "source": [
    "## Washington \n",
    "##### Walla Walla Valley\n",
    "##### Columbia Valley\n",
    "##### Red Mountain\n",
    "##### Yakima Valley\n",
    "##### Horse Heaven Hills\n",
    "Washington<p>\n",
    "Snipes Mountains<p>"
   ]
  },
  {
   "cell_type": "markdown",
   "metadata": {},
   "source": [
    "## Oregon\n",
    "#### Willamette Valley\n",
    "#### Dundee Hills\n",
    "#### Eola-Amity Hills\n",
    "Oregon<p>\n",
    "Ribbon Ridge<p>\n",
    "Chehalem Mountains<p>"
   ]
  },
  {
   "cell_type": "code",
   "execution_count": null,
   "metadata": {},
   "outputs": [],
   "source": []
  }
 ],
 "metadata": {
  "kernelspec": {
   "display_name": "PythonData",
   "language": "python",
   "name": "pythondata"
  },
  "language_info": {
   "codemirror_mode": {
    "name": "ipython",
    "version": 3
   },
   "file_extension": ".py",
   "mimetype": "text/x-python",
   "name": "python",
   "nbconvert_exporter": "python",
   "pygments_lexer": "ipython3",
   "version": "3.7.7"
  }
 },
 "nbformat": 4,
 "nbformat_minor": 4
}
